{
 "cells": [
  {
   "cell_type": "markdown",
   "id": "b21d87f9",
   "metadata": {},
   "source": [
    "# Reverse a word"
   ]
  },
  {
   "cell_type": "code",
   "execution_count": 1,
   "id": "3d28d7c3",
   "metadata": {},
   "outputs": [
    {
     "name": "stdout",
     "output_type": "stream",
     "text": [
      "Enter the wordrehan\n",
      "naher"
     ]
    }
   ],
   "source": [
    "s=input(\"Enter the word\")\n",
    "l= list(s)\n",
    "l.reverse()\n",
    "for i in l:\n",
    "    print(i,end=\"\")"
   ]
  },
  {
   "cell_type": "code",
   "execution_count": null,
   "id": "14e4252f",
   "metadata": {},
   "outputs": [],
   "source": []
  }
 ],
 "metadata": {
  "kernelspec": {
   "display_name": "Python 3 (ipykernel)",
   "language": "python",
   "name": "python3"
  },
  "language_info": {
   "codemirror_mode": {
    "name": "ipython",
    "version": 3
   },
   "file_extension": ".py",
   "mimetype": "text/x-python",
   "name": "python",
   "nbconvert_exporter": "python",
   "pygments_lexer": "ipython3",
   "version": "3.10.1"
  }
 },
 "nbformat": 4,
 "nbformat_minor": 5
}
