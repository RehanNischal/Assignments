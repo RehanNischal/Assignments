{
 "cells": [
  {
   "cell_type": "markdown",
   "id": "5624694d",
   "metadata": {},
   "source": [
    "# Reverse a word"
   ]
  },
  {
   "cell_type": "code",
   "execution_count": 2,
   "id": "1bc61a7e",
   "metadata": {},
   "outputs": [
    {
     "name": "stdout",
     "output_type": "stream",
     "text": [
      "Enter the word : rehan\n",
      "naher"
     ]
    }
   ],
   "source": [
    "s=input(\"Enter the word : \")\n",
    "l= list(s)\n",
    "l.reverse()\n",
    "for i in l:\n",
    "    print(i,end=\"\")"
   ]
  },
  {
   "cell_type": "code",
   "execution_count": null,
   "id": "eecc5dab",
   "metadata": {},
   "outputs": [],
   "source": []
  }
 ],
 "metadata": {
  "kernelspec": {
   "display_name": "Python 3 (ipykernel)",
   "language": "python",
   "name": "python3"
  },
  "language_info": {
   "codemirror_mode": {
    "name": "ipython",
    "version": 3
   },
   "file_extension": ".py",
   "mimetype": "text/x-python",
   "name": "python",
   "nbconvert_exporter": "python",
   "pygments_lexer": "ipython3",
   "version": "3.10.1"
  }
 },
 "nbformat": 4,
 "nbformat_minor": 5
}
