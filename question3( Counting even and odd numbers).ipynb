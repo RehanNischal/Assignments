{
 "cells": [
  {
   "cell_type": "markdown",
   "id": "66ef20e1",
   "metadata": {},
   "source": [
    "# Counting Even and Odd Numbers\n"
   ]
  },
  {
   "cell_type": "code",
   "execution_count": 2,
   "id": "5b4371ef",
   "metadata": {},
   "outputs": [
    {
     "name": "stdout",
     "output_type": "stream",
     "text": [
      "Number of even numbers : 4\n",
      "Number of odd numbers : 5\n"
     ]
    }
   ],
   "source": [
    "numbers = (1, 2, 3, 4, 5, 6, 7, 8, 9) \n",
    "even_numbers=0\n",
    "odd_numbers=0\n",
    "for i in numbers:\n",
    "    if i%2==0:\n",
    "        even_numbers+=1\n",
    "    else:\n",
    "        odd_numbers+=1\n",
    "        \n",
    "print(\"Number of even numbers :\",even_numbers)        \n",
    "print(\"Number of odd numbers :\",odd_numbers)    "
   ]
  },
  {
   "cell_type": "code",
   "execution_count": null,
   "id": "d1735499",
   "metadata": {},
   "outputs": [],
   "source": []
  }
 ],
 "metadata": {
  "kernelspec": {
   "display_name": "Python 3 (ipykernel)",
   "language": "python",
   "name": "python3"
  },
  "language_info": {
   "codemirror_mode": {
    "name": "ipython",
    "version": 3
   },
   "file_extension": ".py",
   "mimetype": "text/x-python",
   "name": "python",
   "nbconvert_exporter": "python",
   "pygments_lexer": "ipython3",
   "version": "3.10.1"
  }
 },
 "nbformat": 4,
 "nbformat_minor": 5
}
