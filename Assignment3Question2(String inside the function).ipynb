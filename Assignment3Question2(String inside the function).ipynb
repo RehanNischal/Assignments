{
 "cells": [
  {
   "cell_type": "markdown",
   "id": "1612f81b",
   "metadata": {},
   "source": [
    "# String inside the function\n",
    "## Write a Python program to reverse a string.\n",
    "\n",
    "\n",
    "\n",
    "## Sample String : \"1234abcd\"\n",
    "\n",
    "## Expected Output : \"dcba4321\""
   ]
  },
  {
   "cell_type": "code",
   "execution_count": 2,
   "id": "6bc05339",
   "metadata": {},
   "outputs": [
    {
     "name": "stdout",
     "output_type": "stream",
     "text": [
      "output : dcba4321\n"
     ]
    }
   ],
   "source": [
    "# definition\n",
    "def reverse_string(s):\n",
    "    return s[::-1]\n",
    "\n",
    "# calling\n",
    "res= reverse_string(\"1234abcd\")\n",
    "print(\"output : {}\".format(res))"
   ]
  },
  {
   "cell_type": "code",
   "execution_count": null,
   "id": "a249dd78",
   "metadata": {},
   "outputs": [],
   "source": []
  }
 ],
 "metadata": {
  "kernelspec": {
   "display_name": "Python 3 (ipykernel)",
   "language": "python",
   "name": "python3"
  },
  "language_info": {
   "codemirror_mode": {
    "name": "ipython",
    "version": 3
   },
   "file_extension": ".py",
   "mimetype": "text/x-python",
   "name": "python",
   "nbconvert_exporter": "python",
   "pygments_lexer": "ipython3",
   "version": "3.10.1"
  }
 },
 "nbformat": 4,
 "nbformat_minor": 5
}
