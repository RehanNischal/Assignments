{
 "cells": [
  {
   "cell_type": "markdown",
   "id": "cabfe8d7",
   "metadata": {},
   "source": [
    "#  Write a Python function to sum all the numbers in a list.\n",
    "\n",
    "\n",
    "\n",
    "## Sample List : (8, 2, 3, 0, 7)\n",
    "\n",
    "## Expected Output : 20\n",
    "\n",
    "\n",
    "\n",
    "## Explanation:\n",
    "\n",
    "\n",
    "\n",
    "## Summation should like 8+2+3+0+7 = 20"
   ]
  },
  {
   "cell_type": "code",
   "execution_count": 10,
   "id": "806ac66e",
   "metadata": {},
   "outputs": [
    {
     "name": "stdout",
     "output_type": "stream",
     "text": [
      "sum is 20\n"
     ]
    }
   ],
   "source": [
    "# definition\n",
    "def sum_of_numbers(l):\n",
    "    s=0\n",
    "    for i in l:\n",
    "        s=s+i\n",
    "    return s    \n",
    "\n",
    "# calling\n",
    "l1=[8,2,3,0,7]\n",
    "res=sum_of_numbers(l1)\n",
    "print(\"sum is {}\".format(res))"
   ]
  },
  {
   "cell_type": "code",
   "execution_count": null,
   "id": "cdd5cbb8",
   "metadata": {},
   "outputs": [],
   "source": []
  }
 ],
 "metadata": {
  "kernelspec": {
   "display_name": "Python 3 (ipykernel)",
   "language": "python",
   "name": "python3"
  },
  "language_info": {
   "codemirror_mode": {
    "name": "ipython",
    "version": 3
   },
   "file_extension": ".py",
   "mimetype": "text/x-python",
   "name": "python",
   "nbconvert_exporter": "python",
   "pygments_lexer": "ipython3",
   "version": "3.10.1"
  }
 },
 "nbformat": 4,
 "nbformat_minor": 5
}
