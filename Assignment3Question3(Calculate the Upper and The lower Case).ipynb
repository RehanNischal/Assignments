{
 "cells": [
  {
   "cell_type": "markdown",
   "id": "7d8981c4",
   "metadata": {},
   "source": [
    "# Write a Python function that accepts a string and calculate the number of upper case letters and lower case letters.\n",
    "\n",
    "\n",
    "\n",
    "## Sample String : 'The quick Brow Fox'\n",
    "\n",
    "## Expected Output :\n",
    "\n",
    "## No. of Upper case characters : 3\n",
    "\n",
    "## No. of Lower case Characters : 12"
   ]
  },
  {
   "cell_type": "code",
   "execution_count": 3,
   "id": "88fda5a7",
   "metadata": {},
   "outputs": [
    {
     "name": "stdout",
     "output_type": "stream",
     "text": [
      "No. of Upper case characters : 3\n",
      "No. of Lower case characters : 12\n"
     ]
    }
   ],
   "source": [
    "# definition\n",
    "def calculate(s):\n",
    "    upper = 0\n",
    "    lower = 0\n",
    "    for i in s:\n",
    "        if i.isupper():\n",
    "            upper+=1\n",
    "        elif i.islower():\n",
    "            lower+=1\n",
    "            \n",
    "    print(\"No. of Upper case characters : {}\".format(upper))\n",
    "    print(\"No. of Lower case characters : {}\".format(lower)) \n",
    "    \n",
    "# calling  \n",
    "s1='The quick Brow Fox'\n",
    "calculate(s1)"
   ]
  },
  {
   "cell_type": "code",
   "execution_count": null,
   "id": "5ae57a85",
   "metadata": {},
   "outputs": [],
   "source": []
  }
 ],
 "metadata": {
  "kernelspec": {
   "display_name": "Python 3 (ipykernel)",
   "language": "python",
   "name": "python3"
  },
  "language_info": {
   "codemirror_mode": {
    "name": "ipython",
    "version": 3
   },
   "file_extension": ".py",
   "mimetype": "text/x-python",
   "name": "python",
   "nbconvert_exporter": "python",
   "pygments_lexer": "ipython3",
   "version": "3.10.1"
  }
 },
 "nbformat": 4,
 "nbformat_minor": 5
}
