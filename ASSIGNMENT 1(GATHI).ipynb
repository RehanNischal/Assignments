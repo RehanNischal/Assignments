{
 "cells": [
  {
   "cell_type": "markdown",
   "id": "827bb6ae",
   "metadata": {},
   "source": [
    "# Take a string and perform following usecases\n",
    "# 1. Length of the string\n",
    "# 2. Print special characters present in the given string(if any)\n",
    "# 3. Repeated words(special characters) and count\n",
    "# eg:result = [ { add : 2}, {another : 2}, { 3: 1} , {2 : 1}, {212: 1} , { '.': 1} ]\n",
    "# 4. Any palindrome -- both numbers and words\n",
    "# 5. Number --> how many even and odd numbers [{ odd: 1 },{ even : 2 }]"
   ]
  },
  {
   "cell_type": "code",
   "execution_count": 11,
   "id": "515ab98b",
   "metadata": {
    "scrolled": true
   },
   "outputs": [
    {
     "name": "stdout",
     "output_type": "stream",
     "text": [
      "{'Length': 42, 'Special Characters': ['@', '$', '^', '#'], 'Repeated words': {'a': 2}, 'Palindromes': ['a', 'a', 'I'], 'Number_count': {'odd': 1, 'even': 2}}\n"
     ]
    }
   ],
   "source": [
    "def analyze_string(str1):\n",
    "    result={}\n",
    "    #1\n",
    "    length = len(str1)\n",
    "    result[\"Length\"]=length\n",
    "\n",
    "    #2\n",
    "\n",
    "    special_char=[]\n",
    "    for i in str1:\n",
    "        if i in ['!','@','#','$','%','^','&','*']:\n",
    "            special_char.append(i)\n",
    "    result[\"Special Characters\"]= special_char  \n",
    "    \n",
    "    #3\n",
    "   \n",
    "    d={}\n",
    "    l = str1.split(\" \")\n",
    "    repeated_words={}\n",
    "\n",
    "    for i in l:\n",
    "        d[i]=0\n",
    "    for i in l:\n",
    "        d[i]=d[i]+1\n",
    "    for i in d:\n",
    "        if d[i]>1:\n",
    "            repeated_words[i]=d[i]\n",
    "            \n",
    "    result[\"Repeated words\"]=repeated_words        \n",
    "        \n",
    "    #4\n",
    "    \n",
    "    pal=[]\n",
    "\n",
    "    l1 = str1.split(\" \")\n",
    "    for i in l1:\n",
    "        if i.isalpha() or i.isalnum():\n",
    "            if i == i[::-1]:\n",
    "                pal.append(i)\n",
    "    result[\"Palindromes\"]=pal            \n",
    "\n",
    "    #5\n",
    "    \n",
    "    import re\n",
    "    d1={}\n",
    "    d1[\"odd\"]=0\n",
    "    d1[\"even\"]=0\n",
    "    l2=str1.split(\" \")\n",
    "    for i in l2:\n",
    "        if re.search('\\D',i)==None: #check if the word contains only digits\n",
    "            if int(i)%2==0:\n",
    "                d1[\"even\"]+=1\n",
    "            else:\n",
    "                d1[\"odd\"]+=1\n",
    "    result[\"Number_count\"]=d1\n",
    "    \n",
    "    return result\n",
    "    \n",
    "    \n",
    "res=analyze_string(\"Was it a car or a cat I saw @$8^# 56 78 89\")    \n",
    "print(res)"
   ]
  },
  {
   "cell_type": "code",
   "execution_count": null,
   "id": "316028ea",
   "metadata": {},
   "outputs": [],
   "source": []
  },
  {
   "cell_type": "code",
   "execution_count": null,
   "id": "7e1ded6b",
   "metadata": {},
   "outputs": [],
   "source": []
  }
 ],
 "metadata": {
  "kernelspec": {
   "display_name": "Python 3 (ipykernel)",
   "language": "python",
   "name": "python3"
  },
  "language_info": {
   "codemirror_mode": {
    "name": "ipython",
    "version": 3
   },
   "file_extension": ".py",
   "mimetype": "text/x-python",
   "name": "python",
   "nbconvert_exporter": "python",
   "pygments_lexer": "ipython3",
   "version": "3.10.1"
  }
 },
 "nbformat": 4,
 "nbformat_minor": 5
}
