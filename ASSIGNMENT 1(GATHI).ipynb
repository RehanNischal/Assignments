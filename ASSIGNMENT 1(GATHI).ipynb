{
 "cells": [
  {
   "cell_type": "markdown",
   "id": "827bb6ae",
   "metadata": {},
   "source": [
    "# Take a string and perform following usecases\n",
    "# 1. Length of the string\n",
    "# 2. Print special characters present in the given string(if any)\n",
    "# 3. Repeated words(special characters) and count\n",
    "# eg:result = [ { add : 2}, {another : 2}, { 3: 1} , {2 : 1}, {212: 1} , { '.': 1} ]\n",
    "# 4. Any palindrome -- both numbers and words\n",
    "# 5. Number --> how many even and odd numbers [{ odd: 1 },{ even : 2 }]"
   ]
  },
  {
   "cell_type": "code",
   "execution_count": 39,
   "id": "ad696085",
   "metadata": {},
   "outputs": [
    {
     "name": "stdout",
     "output_type": "stream",
     "text": [
      "length :  42\n",
      "Special characters:\n",
      "@\n",
      "$\n",
      "^\n",
      "#\n",
      "Repeated words\n",
      "a - count: 2\n",
      "Check for palindrome: \n",
      "a is a palindrome\n",
      "a is a palindrome\n",
      "I is a palindrome\n",
      "ODD/EVEN COUNT\n",
      "{'odd': 1, 'even': 2}\n"
     ]
    }
   ],
   "source": [
    "str1 = \"Was it a car or a cat I saw @$8^# 56 78 89\"\n",
    "#1\n",
    "length = len(str1)\n",
    "print(\"length : \",length)\n",
    "\n",
    "#2\n",
    "print(\"Special characters:\")\n",
    "for i in str1:\n",
    "    if i in ['!','@','#','$','%','^','&','*']:\n",
    "        print(i)\n",
    "#3\n",
    "print(\"Repeated words\")\n",
    "d={}\n",
    "l = str1.split(\" \")\n",
    "\n",
    "for i in l:\n",
    "    d[i]=0\n",
    "for i in l:\n",
    "    d[i]=d[i]+1\n",
    "for i in d:\n",
    "    if d[i]>1:\n",
    "        print(\"{} - count: {}\".format(i,d[i]))\n",
    "        \n",
    "#4\n",
    "print(\"Check for palindrome: \")\n",
    "\n",
    "l1 = str1.split(\" \")\n",
    "for i in l1:\n",
    "    if i.isalpha() or i.isalnum():\n",
    "        if i == i[::-1]:\n",
    "            print(\"{} is a palindrome\".format(i))\n",
    "\n",
    "#5\n",
    "print(\"ODD/EVEN COUNT\")\n",
    "import re\n",
    "d1={}\n",
    "d1[\"odd\"]=0\n",
    "d1[\"even\"]=0\n",
    "l2=str1.split(\" \")\n",
    "for i in l2:\n",
    "    if re.search('\\D',i)==None: #check if the word contains only digits\n",
    "        if int(i)%2==0:\n",
    "            d1[\"even\"]+=1\n",
    "        else:\n",
    "            d1[\"odd\"]+=1\n",
    "print(d1)            \n",
    "        \n",
    "    \n",
    "    \n",
    "\n"
   ]
  },
  {
   "cell_type": "code",
   "execution_count": null,
   "id": "515ab98b",
   "metadata": {},
   "outputs": [],
   "source": []
  }
 ],
 "metadata": {
  "kernelspec": {
   "display_name": "Python 3 (ipykernel)",
   "language": "python",
   "name": "python3"
  },
  "language_info": {
   "codemirror_mode": {
    "name": "ipython",
    "version": 3
   },
   "file_extension": ".py",
   "mimetype": "text/x-python",
   "name": "python",
   "nbconvert_exporter": "python",
   "pygments_lexer": "ipython3",
   "version": "3.10.1"
  }
 },
 "nbformat": 4,
 "nbformat_minor": 5
}
